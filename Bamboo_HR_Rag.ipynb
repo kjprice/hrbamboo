{
  "nbformat": 4,
  "nbformat_minor": 0,
  "metadata": {
    "colab": {
      "provenance": [],
      "toc_visible": true,
      "authorship_tag": "ABX9TyMXj+Gbw+cu4VzK52+vH7Fg",
      "include_colab_link": true
    },
    "kernelspec": {
      "name": "python3",
      "display_name": "Python 3"
    },
    "language_info": {
      "name": "python"
    }
  },
  "cells": [
    {
      "cell_type": "markdown",
      "metadata": {
        "id": "view-in-github",
        "colab_type": "text"
      },
      "source": [
        "<a href=\"https://colab.research.google.com/github/kjprice/hrbamboo/blob/master/Bamboo_HR_Rag.ipynb\" target=\"_parent\"><img src=\"https://colab.research.google.com/assets/colab-badge.svg\" alt=\"Open In Colab\"/></a>"
      ]
    },
    {
      "cell_type": "markdown",
      "source": [
        "# Using RAG Architecture To Query PDF Documents\n",
        "\n",
        "The answers are found at the very bottom. Be sure to include an API Key for Gemini (next step) before running all the cells.\n",
        "\n",
        "### Issues Encountered\n",
        "\n",
        " - Safety rating for gemini needs to be altered (`HARM_CATEGORY_DANGEROUS_CONTENT` response determined to be `MEDIUM`)\n",
        " - When querying the index, duplicates were found (_Fixed when implementing `CharacterTextSplitter`_)\n",
        " - To answer a particular question, many sources were required (_Fixed when implementing `CharacterTextSplitter`_)\n",
        " - Gemini only occassionally determines the correct answer for one question (however the source is correct).\n",
        " - The PDFs seem difficult to parse (especially `Renard R.31.pdf`), data is scattered and some \"sentences\" are too sparse to find meaningful data.\n",
        "\n",
        "### Wishlist\n",
        "\n",
        "Ideally, the following features would be implemented:\n",
        "\n",
        "- Using LanChain or LlamaIndex to build data pipeline\n",
        "- Try different Text Splitters (however `CharacterTextSplitter` seems to work really well).\n",
        "- Use a persistent vector store (currently using `faiss` which is ephemeral).\n",
        "- Document compression\n",
        "- Use a different PDF loader"
      ],
      "metadata": {
        "id": "fFylYyDYOUJu"
      }
    },
    {
      "cell_type": "code",
      "source": [
        "# @title Set Gemini API\n",
        "# @markdown Your API Key can either be set here or by adding a colab secret with name \"GEMINI_API_KEY\".\n",
        "# @markdown An API Key can be created by visiting: https://aistudio.google.com/app/apikey\n",
        "\n",
        "from google.colab import userdata\n",
        "\n",
        "API_KEY = \"\" # @param {\"type\":\"string\"}\n",
        "\n",
        "API_KEY = API_KEY.strip() or userdata.get('GEMINI_API_KEY')\n",
        "\n",
        "\n",
        "if not API_KEY:\n",
        "  raise ValueError(\"API_KEY is not set. Please create one at https://aistudio.google.com/app/apikey\")\n",
        "\n"
      ],
      "metadata": {
        "id": "-kEx8HPQ6Tdp"
      },
      "execution_count": 94,
      "outputs": []
    },
    {
      "cell_type": "code",
      "source": [
        "from typing import List\n",
        "\n",
        "AllSentences = List[str]"
      ],
      "metadata": {
        "id": "r072S5kY9qnk"
      },
      "execution_count": 95,
      "outputs": []
    },
    {
      "cell_type": "code",
      "source": [
        "PDF_FILES_URLS = {\n",
        "    \"Australia Women's Softball Team.pdf\": \"https://drive.google.com/file/d/1peCsJBkC14R93SngSH1-vnWc7DFnbDkX/view?usp=sharing\",\n",
        "    \"Renard R.31.pdf\": \"https://drive.google.com/file/d/1it1elgDySqtXT5HFNQWDlbS3E9tm0HHd/view?usp=sharing\"\n",
        "}\n",
        "\n",
        "TEXT_SPLITTER_CHUNK_SIZE = 400\n",
        "TEXT_SPLITTER_CHUNK_OVERLAP = 60\n",
        "SOURCES_PER_QUERY = 3"
      ],
      "metadata": {
        "id": "5InKLK6DI3dY"
      },
      "execution_count": 96,
      "outputs": []
    },
    {
      "cell_type": "code",
      "source": [],
      "metadata": {
        "id": "fz5uHEyGu_EL"
      },
      "execution_count": 96,
      "outputs": []
    },
    {
      "cell_type": "code",
      "source": [
        "# @title Download Relevent PDFs\n",
        "\n",
        "def extract_id_froo_google_drive_url(url):\n",
        "  return url.split('/')[-2]\n",
        "\n",
        "def download_file_from_google_drive(url, destination):\n",
        "  file_id = extract_id_froo_google_drive_url(url)\n",
        "  !wget -O \"$destination\" \"https://docs.google.com/uc?export=download&confirm=t&id=$file_id\"\n",
        "\n",
        "def download_pdf_if_necessary(pdf_name, pdf_url):\n",
        "  if not os.path.exists(pdf_name):\n",
        "    download_file_from_google_drive(pdf_url, pdf_name)"
      ],
      "metadata": {
        "id": "1CW7POLlvBo2"
      },
      "execution_count": 97,
      "outputs": []
    },
    {
      "cell_type": "code",
      "execution_count": 98,
      "metadata": {
        "id": "-sdhi3NUtamN"
      },
      "outputs": [],
      "source": [
        "!pip install -q PyMuPDF sentence-transformers faiss-cpu torch transformers langchain"
      ]
    },
    {
      "cell_type": "code",
      "source": [
        "# @title Step 1: Extract Text from PDF Documents\n",
        "\n",
        "import pymupdf  # PyMuPDF\n",
        "\n",
        "def extract_text_from_pdf(pdf_path: str) -> str:\n",
        "  \"\"\"\n",
        "  Extract text from a PDF file using PyMuPDF.\n",
        "  \"\"\"\n",
        "  document = pymupdf.open(pdf_path)\n",
        "  text = \"\"\n",
        "  for page_num in range(len(document)):\n",
        "      page = document.load_page(page_num)\n",
        "      text += page.get_text()\n",
        "  return text\n"
      ],
      "metadata": {
        "id": "wiI_JSIGv_9G"
      },
      "execution_count": 99,
      "outputs": []
    },
    {
      "cell_type": "code",
      "source": [
        "# @title Load PDF Text\n",
        "\n",
        "def load_pdfs_as_text() -> AllSentences:\n",
        "  \"\"\"\n",
        "  Load all PDF files and extract text.\n",
        "  \"\"\"\n",
        "  texts = []\n",
        "  for pdf_name, pdf_url in PDF_FILES_URLS.items():\n",
        "    download_pdf_if_necessary(pdf_name, pdf_url)\n",
        "    texts.append(extract_text_from_pdf(pdf_name))\n",
        "  return texts\n",
        "\n"
      ],
      "metadata": {
        "id": "gimHlc2zJcLH"
      },
      "execution_count": 100,
      "outputs": []
    },
    {
      "cell_type": "code",
      "source": [
        "# @title Step 2: Preprocess the Text\n",
        "# @markdown Note that I replaced \"sent_tokenize\" with CharacterTextSplitter and results were fantastic\n",
        "\n",
        "import re\n",
        "from langchain.text_splitter import CharacterTextSplitter\n",
        "\n",
        "\n",
        "def preprocess_text(text: str):\n",
        "  \"\"\"\n",
        "  Preprocess the text by removing extra whitespaces and converting to lowercase.\n",
        "  \"\"\"\n",
        "  # Basic preprocessing\n",
        "  text = re.sub(r'\\s+', ' ', text)  # Normalize whitespace\n",
        "  text = text.lower()\n",
        "  return text\n",
        "\n",
        "def split_text(text):\n",
        "  \"\"\"\n",
        "  Split the text into sentences using LangChain's CharacterTextSplitter.\n",
        "  \"\"\"\n",
        "  text_splitter = CharacterTextSplitter(separator=' ', chunk_size=TEXT_SPLITTER_CHUNK_SIZE, chunk_overlap=TEXT_SPLITTER_CHUNK_OVERLAP)\n",
        "  return text_splitter.split_text(text)\n"
      ],
      "metadata": {
        "id": "Dc_wnESNxxba"
      },
      "execution_count": 101,
      "outputs": []
    },
    {
      "cell_type": "code",
      "source": [
        "# @title Load and Process Text\n",
        "\n",
        "texts = load_pdfs_as_text()\n",
        "\n",
        "for text in texts:\n",
        "  print(len(text))\n",
        "  print()\n",
        "\n",
        "preprocessed_texts = [preprocess_text(text) for text in texts]\n",
        "\n",
        "# Flatten the list of sentences from both documents\n",
        "all_sentences = [sentence for text in preprocessed_texts for sentence in split_text(text)]\n"
      ],
      "metadata": {
        "colab": {
          "base_uri": "https://localhost:8080/"
        },
        "id": "qe0pY5doKqKI",
        "outputId": "ddaa5db0-6297-407c-aae0-9555d402871c"
      },
      "execution_count": 125,
      "outputs": [
        {
          "output_type": "stream",
          "name": "stdout",
          "text": [
            "15020\n",
            "\n",
            "5269\n",
            "\n"
          ]
        }
      ]
    },
    {
      "cell_type": "code",
      "source": [
        "# @title Step 3: Create Text Embeddings\n",
        "from sentence_transformers import SentenceTransformer\n",
        "\n",
        "class ModelTextEmbeddings:\n",
        "  def __init__(self, all_sentences: List[str]):\n",
        "    # Load a pre-trained sentence transformer model\n",
        "    self.model = SentenceTransformer('all-MiniLM-L6-v2')\n",
        "    self.embeddings = self.model.encode(all_sentences, convert_to_tensor=True)\n",
        "\n",
        "  def get_embeddings(self):\n",
        "    return self.embeddings"
      ],
      "metadata": {
        "id": "gP7yD84dyAkH"
      },
      "execution_count": 103,
      "outputs": []
    },
    {
      "cell_type": "code",
      "source": [
        "# @title Step 4: Store Embeddings in a Vector Store\n",
        "\n",
        "import faiss\n",
        "import numpy as np\n",
        "\n",
        "class RagIndex(ModelTextEmbeddings):\n",
        "  def __init__(self, all_sentences: List[str]):\n",
        "    super().__init__(all_sentences)\n",
        "\n",
        "    # Convert embeddings to a NumPy array\n",
        "    embeddings_np = self.embeddings.cpu().detach().numpy()\n",
        "\n",
        "    # Create a FAISS index and add the embeddings\n",
        "    self.index = faiss.IndexFlatL2(embeddings_np.shape[1])\n",
        "    self.index.add(embeddings_np)\n"
      ],
      "metadata": {
        "id": "KX8b4DfA1QX1"
      },
      "execution_count": 104,
      "outputs": []
    },
    {
      "cell_type": "code",
      "source": [
        "# @title Step 5: Query the Vector Store\n",
        "\n",
        "# rag_index = RagIndex(all_sentences)\n",
        "# index = rag_index.index\n",
        "# model = rag_index.model\n",
        "\n",
        "class RagQueryIndex(RagIndex):\n",
        "  def __init__(self, all_sentences: List[str]):\n",
        "    super().__init__(all_sentences)\n",
        "  def query_index(self, query: str, top_k=SOURCES_PER_QUERY) -> List[int]:\n",
        "    \"\"\"\n",
        "    Query the FAISS index for the most similar sentences to the given query.\n",
        "    Returns the relevent sentences\n",
        "    \"\"\"\n",
        "    # Encode the query\n",
        "    query_embedding = self.model.encode([query], convert_to_tensor=True).cpu().detach().numpy()\n",
        "\n",
        "    # Search the index for the top_k most similar embeddings\n",
        "    distances, indices = self.index.search(query_embedding, top_k)\n",
        "\n",
        "    # Retrieve the corresponding sentences\n",
        "    results = [all_sentences[idx] for idx in indices[0]]\n",
        "    return results\n"
      ],
      "metadata": {
        "id": "G99ajV091bgr"
      },
      "execution_count": 105,
      "outputs": []
    },
    {
      "cell_type": "code",
      "source": [
        "# @title Instantiate Class and Run Example\n",
        "rag =  RagQueryIndex(all_sentences)\n",
        "\n",
        "# Example query\n",
        "query = \"Which two companies created the R.31 reconnaissance aircraft?\"\n",
        "relevant_sentences = rag.query_index(query)\n",
        "\n",
        "print(\"Relevant sentences:\")\n",
        "for sentence in relevant_sentences:\n",
        "    print(sentence)\n",
        "    print()"
      ],
      "metadata": {
        "colab": {
          "base_uri": "https://localhost:8080/"
        },
        "id": "PAJv1ZjmHPtl",
        "outputId": "c52562d2-27f7-4523-ce5e-6c3de9247179"
      },
      "execution_count": 106,
      "outputs": [
        {
          "output_type": "stream",
          "name": "stdout",
          "text": [
            "Relevant sentences:\n",
            "a second aircraft was fitted with an enclosed canopy and a gnome-rhône mistral major radial engine, becoming the r-32, with this then being replaced by a hispano-suiza 12y engine, but the r-32 did not show sufficiently improved performance to gain a production order. a further six r.31s were ordered in august 1935.[1] the r.31 entered service with the belgian air force in 1935,[2] replacing the\n",
            "\n",
            "r.31 role reconnaissance manufacturer renard first flight 1932 introduction 1935 retired 1940 primary user belgian air force number built 34 renard r.31 the renard r.31 was a belgian reconnaissance aircraft of the 1930s. a single-engined parasol monoplane, 32 r.31s were built for the belgian air force, the survivors of which, although obsolete, remained in service when nazi germany invaded belgium\n",
            "\n",
            "was held in position by a single vee strut on each side, conjoined with its fixed under carriage. an order for 28 r.31s was placed in march 1934, with six to be built by renard and the remainder by sabca. one aircraft was fitted with a lorraine petrel engine for evaluation, but this was later replaced by the normal kestrel engine. a second aircraft was fitted with an enclosed canopy and a\n",
            "\n"
          ]
        }
      ]
    },
    {
      "cell_type": "code",
      "source": [
        "!pip install -q -U google-generativeai\n"
      ],
      "metadata": {
        "id": "rSQdB2NqAv6p"
      },
      "execution_count": 107,
      "outputs": []
    },
    {
      "cell_type": "code",
      "source": [
        "# @title Step 6 (Optional) - Use Gemini To Filter Results\n",
        "import google.generativeai as genai\n",
        "from google.generativeai.types import HarmCategory, HarmBlockThreshold\n",
        "\n",
        "import os\n",
        "\n",
        "genai.configure(api_key=API_KEY)\n",
        "gen_model = genai.GenerativeModel('gemini-1.5-flash')\n",
        "def gen_ai_answer(question: str, context: str):\n",
        "    prompt = f\"Using the following context, answer the question '{question}' \\n\\n\" + context + \". Result: \"\n",
        "    response = gen_model.generate_content(prompt,\n",
        "        generation_config={\"temperature\": 0.1},\n",
        "        safety_settings={\n",
        "        HarmCategory.HARM_CATEGORY_DANGEROUS_CONTENT: HarmBlockThreshold.BLOCK_ONLY_HIGH,\n",
        "    })\n",
        "\n",
        "\n",
        "    return response.text"
      ],
      "metadata": {
        "id": "KHYmn_PN1bYV"
      },
      "execution_count": 108,
      "outputs": []
    },
    {
      "cell_type": "code",
      "source": [
        "from IPython.core.display import display, HTML\n",
        "import markdown\n",
        "\n",
        "def print_html(html: str):\n",
        "    display(HTML(html))\n",
        "\n",
        "def print_markdown(markdown_text: str):\n",
        "    html_text = markdown.markdown(markdown_text)\n",
        "    print_html(html_text)\n",
        "\n",
        "def answer_question(question: str, sources_limit = SOURCES_PER_QUERY):\n",
        "    print_html(f\"<h2>Question: {question}</h2>\")\n",
        "    relevent_sentences = rag.query_index(question, sources_limit)\n",
        "\n",
        "    gemini_answer = gen_ai_answer(question, \" \".join(relevent_sentences))\n",
        "    print_html(\"<h3>Final Answer (From Gemini)<h3>\")\n",
        "    print_markdown(gemini_answer)\n",
        "\n",
        "    print_html(\"<h3>Relevant Sentences<h3>\")\n",
        "    print_html(\"<ol>\")\n",
        "    for sentence in relevent_sentences:\n",
        "        print_html(f\"<li>{sentence}</li>\")\n",
        "    print_html(\"</ol>\")\n",
        "\n",
        "    print()\n",
        "    print()\n",
        "\n"
      ],
      "metadata": {
        "id": "EmaG_rL81bQT"
      },
      "execution_count": 114,
      "outputs": []
    },
    {
      "cell_type": "markdown",
      "source": [
        "# Answer Four Different Questions"
      ],
      "metadata": {
        "id": "pQ7Qkhb3Rn4a"
      }
    },
    {
      "cell_type": "code",
      "source": [
        "answer_question(\"Which two companies created the R.31 reconnaissance aircraft?\")"
      ],
      "metadata": {
        "colab": {
          "base_uri": "https://localhost:8080/",
          "height": 347
        },
        "id": "IXhCrsu4Ax0W",
        "outputId": "65f43c9d-a85c-4b74-dedd-3f627246f744"
      },
      "execution_count": 115,
      "outputs": [
        {
          "output_type": "display_data",
          "data": {
            "text/plain": [
              "<IPython.core.display.HTML object>"
            ],
            "text/html": [
              "<h2>Question: Which two companies created the R.31 reconnaissance aircraft?</h2>"
            ]
          },
          "metadata": {}
        },
        {
          "output_type": "display_data",
          "data": {
            "text/plain": [
              "<IPython.core.display.HTML object>"
            ],
            "text/html": [
              "<h3>Final Answer (From Gemini)<h3>"
            ]
          },
          "metadata": {}
        },
        {
          "output_type": "display_data",
          "data": {
            "text/plain": [
              "<IPython.core.display.HTML object>"
            ],
            "text/html": [
              "<p>The two companies that created the R.31 reconnaissance aircraft were <strong>Renard</strong> and <strong>SABCA</strong>. </p>\n",
              "<p>The text states that an order for 28 R.31s was placed in March 1934, with six to be built by Renard and the remainder by SABCA. </p>"
            ]
          },
          "metadata": {}
        },
        {
          "output_type": "display_data",
          "data": {
            "text/plain": [
              "<IPython.core.display.HTML object>"
            ],
            "text/html": [
              "<h3>Relevant Sentences<h3>"
            ]
          },
          "metadata": {}
        },
        {
          "output_type": "display_data",
          "data": {
            "text/plain": [
              "<IPython.core.display.HTML object>"
            ],
            "text/html": [
              "<ol>"
            ]
          },
          "metadata": {}
        },
        {
          "output_type": "display_data",
          "data": {
            "text/plain": [
              "<IPython.core.display.HTML object>"
            ],
            "text/html": [
              "<li>a second aircraft was fitted with an enclosed canopy and a gnome-rhône mistral major radial engine, becoming the r-32, with this then being replaced by a hispano-suiza 12y engine, but the r-32 did not show sufficiently improved performance to gain a production order. a further six r.31s were ordered in august 1935.[1] the r.31 entered service with the belgian air force in 1935,[2] replacing the</li>"
            ]
          },
          "metadata": {}
        },
        {
          "output_type": "display_data",
          "data": {
            "text/plain": [
              "<IPython.core.display.HTML object>"
            ],
            "text/html": [
              "<li>r.31 role reconnaissance manufacturer renard first flight 1932 introduction 1935 retired 1940 primary user belgian air force number built 34 renard r.31 the renard r.31 was a belgian reconnaissance aircraft of the 1930s. a single-engined parasol monoplane, 32 r.31s were built for the belgian air force, the survivors of which, although obsolete, remained in service when nazi germany invaded belgium</li>"
            ]
          },
          "metadata": {}
        },
        {
          "output_type": "display_data",
          "data": {
            "text/plain": [
              "<IPython.core.display.HTML object>"
            ],
            "text/html": [
              "<li>was held in position by a single vee strut on each side, conjoined with its fixed under carriage. an order for 28 r.31s was placed in march 1934, with six to be built by renard and the remainder by sabca. one aircraft was fitted with a lorraine petrel engine for evaluation, but this was later replaced by the normal kestrel engine. a second aircraft was fitted with an enclosed canopy and a</li>"
            ]
          },
          "metadata": {}
        },
        {
          "output_type": "display_data",
          "data": {
            "text/plain": [
              "<IPython.core.display.HTML object>"
            ],
            "text/html": [
              "</ol>"
            ]
          },
          "metadata": {}
        },
        {
          "output_type": "stream",
          "name": "stdout",
          "text": [
            "\n",
            "\n"
          ]
        }
      ]
    },
    {
      "cell_type": "code",
      "source": [
        "# Note that we had to use *many* sources to find the correct answer\n",
        "answer_question(\"What guns were mounted on the Renard R.31?\")"
      ],
      "metadata": {
        "colab": {
          "base_uri": "https://localhost:8080/",
          "height": 365
        },
        "id": "l0Tr1TWBwmOH",
        "outputId": "c03f6894-3453-4686-a193-cb59e657d267"
      },
      "execution_count": 116,
      "outputs": [
        {
          "output_type": "display_data",
          "data": {
            "text/plain": [
              "<IPython.core.display.HTML object>"
            ],
            "text/html": [
              "<h2>Question: What guns were mounted on the Renard R.31?</h2>"
            ]
          },
          "metadata": {}
        },
        {
          "output_type": "display_data",
          "data": {
            "text/plain": [
              "<IPython.core.display.HTML object>"
            ],
            "text/html": [
              "<h3>Final Answer (From Gemini)<h3>"
            ]
          },
          "metadata": {}
        },
        {
          "output_type": "display_data",
          "data": {
            "text/plain": [
              "<IPython.core.display.HTML object>"
            ],
            "text/html": [
              "<p>The Renard R.31 was armed with:</p>\n",
              "<ul>\n",
              "<li><strong>One or two forward-firing 7.62 mm Vickers machine guns</strong></li>\n",
              "<li><strong>One 7.62 mm Lewis machine gun in a flexible mount in the rear cockpit</strong> </li>\n",
              "</ul>"
            ]
          },
          "metadata": {}
        },
        {
          "output_type": "display_data",
          "data": {
            "text/plain": [
              "<IPython.core.display.HTML object>"
            ],
            "text/html": [
              "<h3>Relevant Sentences<h3>"
            ]
          },
          "metadata": {}
        },
        {
          "output_type": "display_data",
          "data": {
            "text/plain": [
              "<IPython.core.display.HTML object>"
            ],
            "text/html": [
              "<ol>"
            ]
          },
          "metadata": {}
        },
        {
          "output_type": "display_data",
          "data": {
            "text/plain": [
              "<IPython.core.display.HTML object>"
            ],
            "text/html": [
              "<li>armament guns: one or two forward-firing 7.62 mm vickers machine guns and one 7.62 mm lewis machine gun in flexible mount in rear cockpit aircraft of comparable role, configuration, and era henschel hs 126 operators specifications (renard r.31) see also westland lysander related lists list of interwar military aircraft 1. green, william (1967). war planes of the second world war: volume seven,</li>"
            ]
          },
          "metadata": {}
        },
        {
          "output_type": "display_data",
          "data": {
            "text/plain": [
              "<IPython.core.display.HTML object>"
            ],
            "text/html": [
              "<li>r.31 role reconnaissance manufacturer renard first flight 1932 introduction 1935 retired 1940 primary user belgian air force number built 34 renard r.31 the renard r.31 was a belgian reconnaissance aircraft of the 1930s. a single-engined parasol monoplane, 32 r.31s were built for the belgian air force, the survivors of which, although obsolete, remained in service when nazi germany invaded belgium</li>"
            ]
          },
          "metadata": {}
        },
        {
          "output_type": "display_data",
          "data": {
            "text/plain": [
              "<IPython.core.display.HTML object>"
            ],
            "text/html": [
              "<li>remained in service when nazi germany invaded belgium in 1940. the renard r.31 was the only world war ii operational military aircraft entirely designed and built in belgium. the renard r.31 was designed by alfred renard of constructions aéronautiques g. renard to meet a requirement of the belgian air force for a short ranged reconnaissance and army co-operation aircraft. it first flew from evere</li>"
            ]
          },
          "metadata": {}
        },
        {
          "output_type": "display_data",
          "data": {
            "text/plain": [
              "<IPython.core.display.HTML object>"
            ],
            "text/html": [
              "</ol>"
            ]
          },
          "metadata": {}
        },
        {
          "output_type": "stream",
          "name": "stdout",
          "text": [
            "\n",
            "\n"
          ]
        }
      ]
    },
    {
      "cell_type": "code",
      "source": [
        "answer_question(\"Who was the first softball player to represent any country at four World Series of Softball?\")"
      ],
      "metadata": {
        "colab": {
          "base_uri": "https://localhost:8080/",
          "height": 365
        },
        "id": "B99Wi6sc7G9z",
        "outputId": "90474007-dd67-42d2-a19b-d9f37f2cfcc5"
      },
      "execution_count": 117,
      "outputs": [
        {
          "output_type": "display_data",
          "data": {
            "text/plain": [
              "<IPython.core.display.HTML object>"
            ],
            "text/html": [
              "<h2>Question: Who was the first softball player to represent any country at four World Series of Softball?</h2>"
            ]
          },
          "metadata": {}
        },
        {
          "output_type": "display_data",
          "data": {
            "text/plain": [
              "<IPython.core.display.HTML object>"
            ],
            "text/html": [
              "<h3>Final Answer (From Gemini)<h3>"
            ]
          },
          "metadata": {}
        },
        {
          "output_type": "display_data",
          "data": {
            "text/plain": [
              "<IPython.core.display.HTML object>"
            ],
            "text/html": [
              "<p>The answer is <strong>Marjorie Nelson</strong>. </p>\n",
              "<p>The text states: \"Marjorie Nelson was a Victorian softball player. She was the first softball player to represent any country at four world series of softball.\" </p>"
            ]
          },
          "metadata": {}
        },
        {
          "output_type": "display_data",
          "data": {
            "text/plain": [
              "<IPython.core.display.HTML object>"
            ],
            "text/html": [
              "<h3>Relevant Sentences<h3>"
            ]
          },
          "metadata": {}
        },
        {
          "output_type": "display_data",
          "data": {
            "text/plain": [
              "<IPython.core.display.HTML object>"
            ],
            "text/html": [
              "<ol>"
            ]
          },
          "metadata": {}
        },
        {
          "output_type": "display_data",
          "data": {
            "text/plain": [
              "<IPython.core.display.HTML object>"
            ],
            "text/html": [
              "<li>any country at four world series of softball. she was the australian captain in 1974 and 1978 and the world series.[24] australia earned a bronze medal at the 2005 world cup.[25] in 2009, they earned a silver at the world cup of softball.[26][27] australia earned a gold medal at the 2005 canada cup.[25] they earned a silver in 2008.[20] they earned a bronze in 2011.[28] australia earned a silver</li>"
            ]
          },
          "metadata": {}
        },
        {
          "output_type": "display_data",
          "data": {
            "text/plain": [
              "<IPython.core.display.HTML object>"
            ],
            "text/html": [
              "<li>team 2004 olympic team australia won a silver medal at the 2004 summer olympics in athens.[19][20][21] australia earned a bronze medal at the 2008 summer games.[22] australia achieved a fifth place finish at the 2020 summer games in tokyo. [23] majorie nelson was a victorian softball player. she was the first softball player to represent any country at four world series of softball. she was the</li>"
            ]
          },
          "metadata": {}
        },
        {
          "output_type": "display_data",
          "data": {
            "text/plain": [
              "<IPython.core.display.HTML object>"
            ],
            "text/html": [
              "<li>roche, four time olympic medalist in softball[15] parade of olympians – sydney 2008 – women's softball team beat the americans, who invented the game in 1887, to win the championship.[8] between 1949 and 1967, australia's senior women's side was undefeated in international play.[6] australia's women have won the world championships.[3] australia was one of five nations to compete at the inaugural</li>"
            ]
          },
          "metadata": {}
        },
        {
          "output_type": "display_data",
          "data": {
            "text/plain": [
              "<IPython.core.display.HTML object>"
            ],
            "text/html": [
              "</ol>"
            ]
          },
          "metadata": {}
        },
        {
          "output_type": "stream",
          "name": "stdout",
          "text": [
            "\n",
            "\n"
          ]
        }
      ]
    },
    {
      "cell_type": "code",
      "source": [
        "# Note that Gemini does not always find the correct answer, however the sources include the correct answer\n",
        "answer_question(\"Who were the pitchers on the Australian softball team's roster at the 2020 Summer Olympics?\", 4)"
      ],
      "metadata": {
        "colab": {
          "base_uri": "https://localhost:8080/",
          "height": 451
        },
        "id": "PHEilyFa7LGG",
        "outputId": "17f1c952-b3c7-4c20-cc66-37807673c93c"
      },
      "execution_count": 123,
      "outputs": [
        {
          "output_type": "display_data",
          "data": {
            "text/plain": [
              "<IPython.core.display.HTML object>"
            ],
            "text/html": [
              "<h2>Question: Who were the pitchers on the Australian softball team's roster at the 2020 Summer Olympics?</h2>"
            ]
          },
          "metadata": {}
        },
        {
          "output_type": "display_data",
          "data": {
            "text/plain": [
              "<IPython.core.display.HTML object>"
            ],
            "text/html": [
              "<h3>Final Answer (From Gemini)<h3>"
            ]
          },
          "metadata": {}
        },
        {
          "output_type": "display_data",
          "data": {
            "text/plain": [
              "<IPython.core.display.HTML object>"
            ],
            "text/html": [
              "<p>The pitchers on the Australian softball team's roster at the 2020 Summer Olympics were:</p>\n",
              "<ul>\n",
              "<li><strong>Ellen Roberts (6)</strong></li>\n",
              "<li><strong>Tarni Stepto (14)</strong></li>\n",
              "<li><strong>Kaia Parnaby (32)</strong></li>\n",
              "<li><strong>Gabbie Plain (54)</strong> </li>\n",
              "</ul>"
            ]
          },
          "metadata": {}
        },
        {
          "output_type": "display_data",
          "data": {
            "text/plain": [
              "<IPython.core.display.HTML object>"
            ],
            "text/html": [
              "<h3>Relevant Sentences<h3>"
            ]
          },
          "metadata": {}
        },
        {
          "output_type": "display_data",
          "data": {
            "text/plain": [
              "<IPython.core.display.HTML object>"
            ],
            "text/html": [
              "<ol>"
            ]
          },
          "metadata": {}
        },
        {
          "output_type": "display_data",
          "data": {
            "text/plain": [
              "<IPython.core.display.HTML object>"
            ],
            "text/html": [
              "<li>they earned a bronze in 2011.[28] australia earned a silver medal at the 2005 pacific rim tournament.[25] the roster was released on 1 july 2021.[29] softball at the 2020 summer olympics – australia roster players coaches pitchers 6 ellen roberts 14 t arni stepto 32 kaia parnaby 54 gabbie plain catchers 22 belinda white 25 chelsea forkin 65 t aylah t sitsikronis infielders 2 clare warwick 4 stacey</li>"
            ]
          },
          "metadata": {}
        },
        {
          "output_type": "display_data",
          "data": {
            "text/plain": [
              "<IPython.core.display.HTML object>"
            ],
            "text/html": [
              "<li>3 march 2012. retrieved 8 march 2012. 29. \"softballers show aussie spirit with selection for return to olympic arena\" (https://www.soft ball.org.au/news/softballers-show-aussie-spirit-with-selection-to-olympics/). softball.org.au. retrieved 1 july 2021. 30. \"team roster australia\" (https://web.archive.org/web/20210720203707/https://olympics.com/</li>"
            ]
          },
          "metadata": {}
        },
        {
          "output_type": "display_data",
          "data": {
            "text/plain": [
              "<IPython.core.display.HTML object>"
            ],
            "text/html": [
              "<li>played a test series against new zealand in new zealand. australia won two out of three games in the test.[31] in march 2012, the team played a test series against the japan women's national softball team in canberra.[32] stacey porter was the team's first aboriginal teammate to represent australia in softball the olympics.[33] other aboriginal members of the national team include vanessa</li>"
            ]
          },
          "metadata": {}
        },
        {
          "output_type": "display_data",
          "data": {
            "text/plain": [
              "<IPython.core.display.HTML object>"
            ],
            "text/html": [
              "<li>aboriginal members of the national team include vanessa stokes,[33] tarni stepto, mollie chilcott, terry ramadge and janice blackman. 1. \"the wbsc women's world ranking\" (https://rankings.wbsc.org/list/softball/women). wbsc. 10 november 2023. retrieved 10 november 2023. 2. \"404 page not found - softball australia\" (https://www.softball.org.au/national-teams/open-wo men/). www.softball.org.au.</li>"
            ]
          },
          "metadata": {}
        },
        {
          "output_type": "display_data",
          "data": {
            "text/plain": [
              "<IPython.core.display.HTML object>"
            ],
            "text/html": [
              "</ol>"
            ]
          },
          "metadata": {}
        },
        {
          "output_type": "stream",
          "name": "stdout",
          "text": [
            "\n",
            "\n"
          ]
        }
      ]
    },
    {
      "cell_type": "code",
      "source": [],
      "metadata": {
        "id": "p0ThQlLa-qgL"
      },
      "execution_count": null,
      "outputs": []
    }
  ]
}
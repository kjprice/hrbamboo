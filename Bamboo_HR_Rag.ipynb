{
  "nbformat": 4,
  "nbformat_minor": 0,
  "metadata": {
    "colab": {
      "provenance": [],
      "authorship_tag": "ABX9TyPA647rYapLFbbaS5aTgSQQ",
      "include_colab_link": true
    },
    "kernelspec": {
      "name": "python3",
      "display_name": "Python 3"
    },
    "language_info": {
      "name": "python"
    }
  },
  "cells": [
    {
      "cell_type": "markdown",
      "metadata": {
        "id": "view-in-github",
        "colab_type": "text"
      },
      "source": [
        "<a href=\"https://colab.research.google.com/github/kjprice/hrbamboo/blob/master/Bamboo_HR_Rag.ipynb\" target=\"_parent\"><img src=\"https://colab.research.google.com/assets/colab-badge.svg\" alt=\"Open In Colab\"/></a>"
      ]
    },
    {
      "cell_type": "markdown",
      "source": [
        "# Using RAG Architecture To Query PDF Documents\n",
        "\n",
        "The answers are found at the very bottom. Be sure to include an API Key for Gemini (next step) before running all the cells.\n",
        "\n",
        "### Issues Encountered\n",
        "\n",
        " - Safety rating for gemini needs to be altered (`HARM_CATEGORY_DANGEROUS_CONTENT` response determined to be `MEDIUM`)\n",
        " - When querying the index, duplicates were found\n",
        " - To answer a particular question, many sources were required\n",
        " - Gemini only occassionally determines the correct answer for one question (however the source is correct).\n",
        " - The PDFs seem difficult to parse, data is scattered and some \"sentences\" are too sparse to find meaningful data."
      ],
      "metadata": {
        "id": "fFylYyDYOUJu"
      }
    },
    {
      "cell_type": "code",
      "source": [
        "# @title Set Gemini API\n",
        "# @markdown Your API Key can either be set here or by adding a colab secret with name \"GEMINI_API_KEY\".\n",
        "# @markdown An API Key can be created by visiting: https://aistudio.google.com/app/apikey\n",
        "\n",
        "from google.colab import userdata\n",
        "\n",
        "API_KEY = \"\" # @param {\"type\":\"string\"}\n",
        "\n",
        "API_KEY = API_KEY.strip() or userdata.get('GEMINI_API_KEY')\n",
        "\n",
        "\n",
        "if not API_KEY:\n",
        "  raise ValueError(\"API_KEY is not set. Please create one at https://aistudio.google.com/app/apikey\")\n",
        "\n"
      ],
      "metadata": {
        "id": "-kEx8HPQ6Tdp"
      },
      "execution_count": 1,
      "outputs": []
    },
    {
      "cell_type": "code",
      "source": [
        "from typing import List\n",
        "\n",
        "AllSentences = List[str]"
      ],
      "metadata": {
        "id": "r072S5kY9qnk"
      },
      "execution_count": 2,
      "outputs": []
    },
    {
      "cell_type": "code",
      "source": [
        "PDF_FILES_URLS = {\n",
        "    \"Australia Women's Softball Team.pdf\": \"https://drive.google.com/file/d/1peCsJBkC14R93SngSH1-vnWc7DFnbDkX/view?usp=sharing\",\n",
        "    \"Renard R.31.pdf\": \"https://drive.google.com/file/d/1it1elgDySqtXT5HFNQWDlbS3E9tm0HHd/view?usp=sharing\"\n",
        "}"
      ],
      "metadata": {
        "id": "5InKLK6DI3dY"
      },
      "execution_count": 3,
      "outputs": []
    },
    {
      "cell_type": "code",
      "source": [],
      "metadata": {
        "id": "fz5uHEyGu_EL"
      },
      "execution_count": 3,
      "outputs": []
    },
    {
      "cell_type": "code",
      "source": [
        "# @title Download Relevent PDFs\n",
        "\n",
        "def extract_id_froo_google_drive_url(url):\n",
        "  return url.split('/')[-2]\n",
        "\n",
        "def download_file_from_google_drive(url, destination):\n",
        "  file_id = extract_id_froo_google_drive_url(url)\n",
        "  !wget -O \"$destination\" \"https://docs.google.com/uc?export=download&confirm=t&id=$file_id\"\n"
      ],
      "metadata": {
        "id": "1CW7POLlvBo2"
      },
      "execution_count": 4,
      "outputs": []
    },
    {
      "cell_type": "code",
      "execution_count": 5,
      "metadata": {
        "id": "-sdhi3NUtamN"
      },
      "outputs": [],
      "source": [
        "!pip install -q PyMuPDF sentence-transformers faiss-cpu torch transformers"
      ]
    },
    {
      "cell_type": "code",
      "source": [
        "# @title Step 1: Extract Text from PDF Documents\n",
        "\n",
        "import pymupdf  # PyMuPDF\n",
        "\n",
        "def extract_text_from_pdf(pdf_path: str) -> str:\n",
        "  \"\"\"\n",
        "  Extract text from a PDF file using PyMuPDF.\n",
        "  \"\"\"\n",
        "  document = pymupdf.open(pdf_path)\n",
        "  text = \"\"\n",
        "  for page_num in range(len(document)):\n",
        "      page = document.load_page(page_num)\n",
        "      text += page.get_text()\n",
        "  return text\n"
      ],
      "metadata": {
        "id": "wiI_JSIGv_9G"
      },
      "execution_count": 6,
      "outputs": []
    },
    {
      "cell_type": "code",
      "source": [
        "# @title Load PDF Text\n",
        "\n",
        "def load_pdfs_as_text() -> AllSentences:\n",
        "  \"\"\"\n",
        "  Load all PDF files and extract text.\n",
        "  \"\"\"\n",
        "  texts = []\n",
        "  for pdf_name, pdf_url in PDF_FILES_URLS.items():\n",
        "    download_file_from_google_drive(pdf_url, pdf_name)\n",
        "    texts.append(extract_text_from_pdf(pdf_name))\n",
        "  return texts\n",
        "\n"
      ],
      "metadata": {
        "id": "gimHlc2zJcLH"
      },
      "execution_count": 7,
      "outputs": []
    },
    {
      "cell_type": "code",
      "source": [
        "# @title Step 2: Preprocess the Text\n",
        "\n",
        "import re\n",
        "from nltk.tokenize import sent_tokenize\n",
        "import nltk\n",
        "\n",
        "nltk.download('punkt')\n",
        "\n",
        "def preprocess_text(text):\n",
        "  \"\"\"\n",
        "  Preprocess the text by removing extra whitespaces and converting to lowercase.\n",
        "  \"\"\"\n",
        "  # Basic preprocessing\n",
        "  text = re.sub(r'\\s+', ' ', text)  # Normalize whitespace\n",
        "  text = text.lower()\n",
        "  sentences = sent_tokenize(text)  # Split into sentences\n",
        "  return sentences\n",
        "\n"
      ],
      "metadata": {
        "colab": {
          "base_uri": "https://localhost:8080/"
        },
        "id": "Dc_wnESNxxba",
        "outputId": "1d610fad-4023-43f2-b74b-c13b38554aae"
      },
      "execution_count": 8,
      "outputs": [
        {
          "output_type": "stream",
          "name": "stderr",
          "text": [
            "[nltk_data] Downloading package punkt to /root/nltk_data...\n",
            "[nltk_data]   Package punkt is already up-to-date!\n"
          ]
        }
      ]
    },
    {
      "cell_type": "code",
      "source": [
        "# @title Load and Process Text\n",
        "\n",
        "texts = load_pdfs_as_text()\n",
        "\n",
        "preprocessed_texts = [preprocess_text(text) for text in texts]\n",
        "\n",
        "# Flatten the list of sentences from both documents\n",
        "all_sentences = [sentence for sublist in preprocessed_texts for sentence in sublist]\n"
      ],
      "metadata": {
        "colab": {
          "base_uri": "https://localhost:8080/"
        },
        "id": "qe0pY5doKqKI",
        "outputId": "4bcdd940-7d86-45bc-df41-cc8589e82263"
      },
      "execution_count": 9,
      "outputs": [
        {
          "output_type": "stream",
          "name": "stdout",
          "text": [
            "--2024-08-13 15:13:35--  https://docs.google.com/uc?export=download&confirm=t&id=1peCsJBkC14R93SngSH1-vnWc7DFnbDkX\n",
            "Resolving docs.google.com (docs.google.com)... 142.250.157.113, 142.250.157.102, 142.250.157.100, ...\n",
            "Connecting to docs.google.com (docs.google.com)|142.250.157.113|:443... connected.\n",
            "HTTP request sent, awaiting response... 303 See Other\n",
            "Location: https://drive.usercontent.google.com/download?id=1peCsJBkC14R93SngSH1-vnWc7DFnbDkX&export=download [following]\n",
            "--2024-08-13 15:13:35--  https://drive.usercontent.google.com/download?id=1peCsJBkC14R93SngSH1-vnWc7DFnbDkX&export=download\n",
            "Resolving drive.usercontent.google.com (drive.usercontent.google.com)... 142.251.170.132, 2404:6800:4008:c19::84\n",
            "Connecting to drive.usercontent.google.com (drive.usercontent.google.com)|142.251.170.132|:443... connected.\n",
            "HTTP request sent, awaiting response... 200 OK\n",
            "Length: 273473 (267K) [application/octet-stream]\n",
            "Saving to: ‘Australia Women's Softball Team.pdf’\n",
            "\n",
            "Australia Women's S 100%[===================>] 267.06K  --.-KB/s    in 0.003s  \n",
            "\n",
            "2024-08-13 15:13:39 (79.1 MB/s) - ‘Australia Women's Softball Team.pdf’ saved [273473/273473]\n",
            "\n",
            "--2024-08-13 15:13:40--  https://docs.google.com/uc?export=download&confirm=t&id=1it1elgDySqtXT5HFNQWDlbS3E9tm0HHd\n",
            "Resolving docs.google.com (docs.google.com)... 142.250.157.113, 142.250.157.102, 142.250.157.100, ...\n",
            "Connecting to docs.google.com (docs.google.com)|142.250.157.113|:443... connected.\n",
            "HTTP request sent, awaiting response... 303 See Other\n",
            "Location: https://drive.usercontent.google.com/download?id=1it1elgDySqtXT5HFNQWDlbS3E9tm0HHd&export=download [following]\n",
            "--2024-08-13 15:13:40--  https://drive.usercontent.google.com/download?id=1it1elgDySqtXT5HFNQWDlbS3E9tm0HHd&export=download\n",
            "Resolving drive.usercontent.google.com (drive.usercontent.google.com)... 142.251.170.132, 2404:6800:4008:c19::84\n",
            "Connecting to drive.usercontent.google.com (drive.usercontent.google.com)|142.251.170.132|:443... connected.\n",
            "HTTP request sent, awaiting response... 200 OK\n",
            "Length: 157901 (154K) [application/octet-stream]\n",
            "Saving to: ‘Renard R.31.pdf’\n",
            "\n",
            "Renard R.31.pdf     100%[===================>] 154.20K  --.-KB/s    in 0.002s  \n",
            "\n",
            "2024-08-13 15:13:43 (74.5 MB/s) - ‘Renard R.31.pdf’ saved [157901/157901]\n",
            "\n"
          ]
        }
      ]
    },
    {
      "cell_type": "code",
      "source": [
        "# @title Step 3: Create Text Embeddings\n",
        "from sentence_transformers import SentenceTransformer\n",
        "\n",
        "class ModelTextEmbeddings:\n",
        "  def __init__(self, all_sentences: List[str]):\n",
        "    # Load a pre-trained sentence transformer model\n",
        "    self.model = SentenceTransformer('all-MiniLM-L6-v2')\n",
        "    self.embeddings = self.model.encode(all_sentences, convert_to_tensor=True)\n",
        "\n",
        "  def get_embeddings(self):\n",
        "    return self.embeddings"
      ],
      "metadata": {
        "id": "gP7yD84dyAkH",
        "colab": {
          "base_uri": "https://localhost:8080/"
        },
        "outputId": "98267c2c-7d53-4212-8a95-74c8997fcbb7"
      },
      "execution_count": 10,
      "outputs": [
        {
          "output_type": "stream",
          "name": "stderr",
          "text": [
            "/usr/local/lib/python3.10/dist-packages/sentence_transformers/cross_encoder/CrossEncoder.py:11: TqdmExperimentalWarning: Using `tqdm.autonotebook.tqdm` in notebook mode. Use `tqdm.tqdm` instead to force console mode (e.g. in jupyter console)\n",
            "  from tqdm.autonotebook import tqdm, trange\n"
          ]
        }
      ]
    },
    {
      "cell_type": "code",
      "source": [
        "# @title Step 4: Store Embeddings in a Vector Store\n",
        "\n",
        "import faiss\n",
        "import numpy as np\n",
        "\n",
        "class RagIndex(ModelTextEmbeddings):\n",
        "  def __init__(self, all_sentences: List[str]):\n",
        "    super().__init__(all_sentences)\n",
        "\n",
        "    # Convert embeddings to a NumPy array\n",
        "    embeddings_np = self.embeddings.cpu().detach().numpy()\n",
        "\n",
        "    # Create a FAISS index and add the embeddings\n",
        "    self.index = faiss.IndexFlatL2(embeddings_np.shape[1])\n",
        "    self.index.add(embeddings_np)\n"
      ],
      "metadata": {
        "id": "KX8b4DfA1QX1"
      },
      "execution_count": 11,
      "outputs": []
    },
    {
      "cell_type": "code",
      "source": [
        "# @title Step 5: Query the Vector Store\n",
        "\n",
        "# rag_index = RagIndex(all_sentences)\n",
        "# index = rag_index.index\n",
        "# model = rag_index.model\n",
        "\n",
        "class RagQueryIndex(RagIndex):\n",
        "  def __init__(self, all_sentences: List[str]):\n",
        "    super().__init__(all_sentences)\n",
        "  def query_index(self, query: str, top_k=5) -> List[int]:\n",
        "    \"\"\"\n",
        "    Query the FAISS index for the most similar sentences to the given query.\n",
        "    Returns the relevent sentences\n",
        "    \"\"\"\n",
        "    # Encode the query\n",
        "    query_embedding = self.model.encode([query], convert_to_tensor=True).cpu().detach().numpy()\n",
        "\n",
        "    # Search the index for the top_k most similar embeddings\n",
        "    distances, indices = self.index.search(query_embedding, top_k)\n",
        "\n",
        "    # Retrieve the corresponding sentences\n",
        "    results = [all_sentences[idx] for idx in indices[0]]\n",
        "    return results\n"
      ],
      "metadata": {
        "id": "G99ajV091bgr"
      },
      "execution_count": 12,
      "outputs": []
    },
    {
      "cell_type": "code",
      "source": [
        "# @title Instantiate Class and Run Example\n",
        "rag =  RagQueryIndex(all_sentences)\n",
        "# Example query\n",
        "query = \"Which two companies created the R.31 reconnaissance aircraft?\"\n",
        "relevant_sentences = rag.query_index(query)\n",
        "\n",
        "print(\"Relevant sentences:\")\n",
        "for sentence in relevant_sentences:\n",
        "    print(sentence)"
      ],
      "metadata": {
        "colab": {
          "base_uri": "https://localhost:8080/"
        },
        "id": "PAJv1ZjmHPtl",
        "outputId": "5be2e8f2-c9cc-4d82-9ae6-81dbe45a5d75"
      },
      "execution_count": 13,
      "outputs": [
        {
          "output_type": "stream",
          "name": "stderr",
          "text": [
            "/usr/local/lib/python3.10/dist-packages/huggingface_hub/utils/_token.py:89: UserWarning: \n",
            "The secret `HF_TOKEN` does not exist in your Colab secrets.\n",
            "To authenticate with the Hugging Face Hub, create a token in your settings tab (https://huggingface.co/settings/tokens), set it as secret in your Google Colab and restart your session.\n",
            "You will be able to reuse this secret in all of your notebooks.\n",
            "Please note that authentication is recommended but still optional to access public models or datasets.\n",
            "  warnings.warn(\n"
          ]
        },
        {
          "output_type": "stream",
          "name": "stdout",
          "text": [
            "Relevant sentences:\n",
            "r.31 role reconnaissance manufacturer renard first flight 1932 introduction 1935 retired 1940 primary user belgian air force number built 34 renard r.31 the renard r.31 was a belgian reconnaissance aircraft of the 1930s.\n",
            "a second aircraft was fitted with an enclosed canopy and a gnome-rhône mistral major radial engine, becoming the r-32, with this then being replaced by a hispano-suiza 12y engine, but the r-32 did not show sufficiently improved performance to gain a production order.\n",
            "the renard r.31 was designed by alfred renard of constructions aéronautiques g. renard to meet a requirement of the belgian air force for a short ranged reconnaissance and army co-operation aircraft.\n",
            "a single-engined parasol monoplane, 32 r.31s were built for the belgian air force, the survivors of which, although obsolete, remained in service when nazi germany invaded belgium in 1940. the renard r.31 was the only world war ii operational military aircraft entirely designed and built in belgium.\n",
            "a further six r.31s were ordered in august 1935.\n"
          ]
        }
      ]
    },
    {
      "cell_type": "code",
      "source": [
        "!pip install -q -U google-generativeai\n"
      ],
      "metadata": {
        "id": "rSQdB2NqAv6p"
      },
      "execution_count": 14,
      "outputs": []
    },
    {
      "cell_type": "code",
      "source": [
        "# @title Step 6 (Optional) - Use Gemini To Filter Results\n",
        "import google.generativeai as genai\n",
        "from google.generativeai.types import HarmCategory, HarmBlockThreshold\n",
        "\n",
        "import os\n",
        "\n",
        "genai.configure(api_key=API_KEY)\n",
        "gen_model = genai.GenerativeModel('gemini-1.5-flash')\n",
        "def gen_ai_answer(question: str, context: str):\n",
        "    prompt = f\"Using the following context, answer the question '{question}' \\n\\n\" + context + \". Result: \"\n",
        "    # print(prompt)\n",
        "    response = gen_model.generate_content(prompt,\n",
        "        generation_config={\"temperature\": 0.1},\n",
        "        safety_settings={\n",
        "        HarmCategory.HARM_CATEGORY_DANGEROUS_CONTENT: HarmBlockThreshold.BLOCK_ONLY_HIGH,\n",
        "    })\n",
        "    # print(response)\n",
        "\n",
        "\n",
        "    return response.text"
      ],
      "metadata": {
        "id": "KHYmn_PN1bYV"
      },
      "execution_count": 15,
      "outputs": []
    },
    {
      "cell_type": "code",
      "source": [
        "from IPython.core.display import display, HTML\n",
        "import markdown\n",
        "\n",
        "def print_html(html: str):\n",
        "    display(HTML(html))\n",
        "\n",
        "def print_markdown(markdown_text: str):\n",
        "    html_text = markdown.markdown(markdown_text)\n",
        "    print_html(html_text)\n",
        "\n",
        "def answer_question(question: str, sources_limit = 5):\n",
        "    print_html(f\"<h2>Question: {question}</h2>\")\n",
        "    relevent_sentences = rag.query_index(question, sources_limit)\n",
        "\n",
        "    gemini_answer = gen_ai_answer(question, \" \".join(relevent_sentences))\n",
        "    print_html(\"<h3>Final Answer (From Gemini)<h3>\")\n",
        "    print_markdown(gemini_answer)\n",
        "\n",
        "    print_html(\"<h3>Relevant Sentences<h3>\")\n",
        "    print_html(\"<ol>\")\n",
        "    for sentence in relevent_sentences:\n",
        "        print_html(f\"<li>{sentence}</li>\")\n",
        "    print_html(\"</ol>\")\n",
        "\n",
        "    print()\n",
        "    print()\n",
        "\n"
      ],
      "metadata": {
        "id": "EmaG_rL81bQT"
      },
      "execution_count": 23,
      "outputs": []
    },
    {
      "cell_type": "markdown",
      "source": [
        "# Answer Four Different Questions"
      ],
      "metadata": {
        "id": "pQ7Qkhb3Rn4a"
      }
    },
    {
      "cell_type": "code",
      "source": [
        "answer_question(\"Which two companies created the R.31 reconnaissance aircraft?\")"
      ],
      "metadata": {
        "colab": {
          "base_uri": "https://localhost:8080/",
          "height": 402
        },
        "id": "IXhCrsu4Ax0W",
        "outputId": "a3451a96-1578-4c13-9e01-65a6c931eeae"
      },
      "execution_count": 24,
      "outputs": [
        {
          "output_type": "display_data",
          "data": {
            "text/plain": [
              "<IPython.core.display.HTML object>"
            ],
            "text/html": [
              "<h2>Question: Which two companies created the R.31 reconnaissance aircraft?</h2>"
            ]
          },
          "metadata": {}
        },
        {
          "output_type": "display_data",
          "data": {
            "text/plain": [
              "<IPython.core.display.HTML object>"
            ],
            "text/html": [
              "<h3>Final Answer (From Gemini)<h3>"
            ]
          },
          "metadata": {}
        },
        {
          "output_type": "display_data",
          "data": {
            "text/plain": [
              "<IPython.core.display.HTML object>"
            ],
            "text/html": [
              "<p>The text states that the Renard R.31 was \"designed by Alfred Renard of <strong>Constructions Aéronautiques G. Renard</strong>\". </p>\n",
              "<p>While the text doesn't explicitly name a second company, it does mention that the R.31 was \"built for the Belgian Air Force\". This implies that the Belgian Air Force was involved in the production of the aircraft, likely through a contract with Constructions Aéronautiques G. Renard.</p>\n",
              "<p>Therefore, the two companies involved in the creation of the R.31 reconnaissance aircraft are:</p>\n",
              "<ol>\n",
              "<li><strong>Constructions Aéronautiques G. Renard</strong></li>\n",
              "<li><strong>Belgian Air Force</strong> </li>\n",
              "</ol>"
            ]
          },
          "metadata": {}
        },
        {
          "output_type": "display_data",
          "data": {
            "text/plain": [
              "<IPython.core.display.HTML object>"
            ],
            "text/html": [
              "<h3>Relevant Sentences<h3>"
            ]
          },
          "metadata": {}
        },
        {
          "output_type": "display_data",
          "data": {
            "text/plain": [
              "<IPython.core.display.HTML object>"
            ],
            "text/html": [
              "<ol>"
            ]
          },
          "metadata": {}
        },
        {
          "output_type": "display_data",
          "data": {
            "text/plain": [
              "<IPython.core.display.HTML object>"
            ],
            "text/html": [
              "<li>r.31 role reconnaissance manufacturer renard first flight 1932 introduction 1935 retired 1940 primary user belgian air force number built 34 renard r.31 the renard r.31 was a belgian reconnaissance aircraft of the 1930s.</li>"
            ]
          },
          "metadata": {}
        },
        {
          "output_type": "display_data",
          "data": {
            "text/plain": [
              "<IPython.core.display.HTML object>"
            ],
            "text/html": [
              "<li>a second aircraft was fitted with an enclosed canopy and a gnome-rhône mistral major radial engine, becoming the r-32, with this then being replaced by a hispano-suiza 12y engine, but the r-32 did not show sufficiently improved performance to gain a production order.</li>"
            ]
          },
          "metadata": {}
        },
        {
          "output_type": "display_data",
          "data": {
            "text/plain": [
              "<IPython.core.display.HTML object>"
            ],
            "text/html": [
              "<li>the renard r.31 was designed by alfred renard of constructions aéronautiques g. renard to meet a requirement of the belgian air force for a short ranged reconnaissance and army co-operation aircraft.</li>"
            ]
          },
          "metadata": {}
        },
        {
          "output_type": "display_data",
          "data": {
            "text/plain": [
              "<IPython.core.display.HTML object>"
            ],
            "text/html": [
              "<li>a single-engined parasol monoplane, 32 r.31s were built for the belgian air force, the survivors of which, although obsolete, remained in service when nazi germany invaded belgium in 1940. the renard r.31 was the only world war ii operational military aircraft entirely designed and built in belgium.</li>"
            ]
          },
          "metadata": {}
        },
        {
          "output_type": "display_data",
          "data": {
            "text/plain": [
              "<IPython.core.display.HTML object>"
            ],
            "text/html": [
              "<li>a further six r.31s were ordered in august 1935.</li>"
            ]
          },
          "metadata": {}
        },
        {
          "output_type": "display_data",
          "data": {
            "text/plain": [
              "<IPython.core.display.HTML object>"
            ],
            "text/html": [
              "</ol>"
            ]
          },
          "metadata": {}
        },
        {
          "output_type": "stream",
          "name": "stdout",
          "text": [
            "\n",
            "\n"
          ]
        }
      ]
    },
    {
      "cell_type": "code",
      "source": [
        "# Note that we had to use *many* sources to find the correct answer\n",
        "answer_question(\"What guns were mounted on the Renard R.31?\", 100)"
      ],
      "metadata": {
        "colab": {
          "base_uri": "https://localhost:8080/",
          "height": 1000
        },
        "id": "l0Tr1TWBwmOH",
        "outputId": "d38e1cf1-a613-469a-f5ac-f923ed20ebae"
      },
      "execution_count": 18,
      "outputs": [
        {
          "output_type": "display_data",
          "data": {
            "text/plain": [
              "<IPython.core.display.HTML object>"
            ],
            "text/html": [
              "<h2>Question: What guns were mounted on the Renard R.31?</h2>"
            ]
          },
          "metadata": {}
        },
        {
          "output_type": "display_data",
          "data": {
            "text/plain": [
              "<IPython.core.display.HTML object>"
            ],
            "text/html": [
              "<h3>Relevant Sentences<h3>"
            ]
          },
          "metadata": {}
        },
        {
          "output_type": "display_data",
          "data": {
            "text/plain": [
              "<IPython.core.display.HTML object>"
            ],
            "text/html": [
              "<ol>"
            ]
          },
          "metadata": {}
        },
        {
          "output_type": "display_data",
          "data": {
            "text/plain": [
              "<IPython.core.display.HTML object>"
            ],
            "text/html": [
              "<li>the renard r.31 was designed by alfred renard of constructions aéronautiques g. renard to meet a requirement of the belgian air force for a short ranged reconnaissance and army co-operation aircraft.</li>"
            ]
          },
          "metadata": {}
        },
        {
          "output_type": "display_data",
          "data": {
            "text/plain": [
              "<IPython.core.display.HTML object>"
            ],
            "text/html": [
              "<li>an order for 28 r.31s was placed in march 1934, with six to be built by renard and the remainder by sabca.</li>"
            ]
          },
          "metadata": {}
        },
        {
          "output_type": "display_data",
          "data": {
            "text/plain": [
              "<IPython.core.display.HTML object>"
            ],
            "text/html": [
              "<li>\"le renard r.31\".</li>"
            ]
          },
          "metadata": {}
        },
        {
          "output_type": "display_data",
          "data": {
            "text/plain": [
              "<IPython.core.display.HTML object>"
            ],
            "text/html": [
              "<li>r.31 role reconnaissance manufacturer renard first flight 1932 introduction 1935 retired 1940 primary user belgian air force number built 34 renard r.31 the renard r.31 was a belgian reconnaissance aircraft of the 1930s.</li>"
            ]
          },
          "metadata": {}
        },
        {
          "output_type": "display_data",
          "data": {
            "text/plain": [
              "<IPython.core.display.HTML object>"
            ],
            "text/html": [
              "<li>\"renard r.31\" belgisch leger/armee belge: het militair vliegwezen/l'aeronautique militaire 1930-1940. aartselaar, belgium, 2003, pp.</li>"
            ]
          },
          "metadata": {}
        },
        {
          "output_type": "display_data",
          "data": {
            "text/plain": [
              "<IPython.core.display.HTML object>"
            ],
            "text/html": [
              "<li>a further six r.31s were ordered in august 1935.</li>"
            ]
          },
          "metadata": {}
        },
        {
          "output_type": "display_data",
          "data": {
            "text/plain": [
              "<IPython.core.display.HTML object>"
            ],
            "text/html": [
              "<li>a single-engined parasol monoplane, 32 r.31s were built for the belgian air force, the survivors of which, although obsolete, remained in service when nazi germany invaded belgium in 1940. the renard r.31 was the only world war ii operational military aircraft entirely designed and built in belgium.</li>"
            ]
          },
          "metadata": {}
        },
        {
          "output_type": "display_data",
          "data": {
            "text/plain": [
              "<IPython.core.display.HTML object>"
            ],
            "text/html": [
              "<li>[1] the r.31 entered service with the belgian air force in 1935,[2] replacing the breguet 19 in the 9e and 11e escadrilles d'observation based at liège.</li>"
            ]
          },
          "metadata": {}
        },
        {
          "output_type": "display_data",
          "data": {
            "text/plain": [
              "<IPython.core.display.HTML object>"
            ],
            "text/html": [
              "<li>378. a belgian historical aviation archive (http://www.belgian-wings.be/webpages/navigator/phot os/milltarypics/interbellum/renard%20r31/renard%20r-31%20frontpage.html) retrieved from \"https://en.wikipedia.org/w/index.php?title=renard_r.31&oldid=1194373386\" references further reading external links</li>"
            ]
          },
          "metadata": {}
        },
        {
          "output_type": "display_data",
          "data": {
            "text/plain": [
              "<IPython.core.display.HTML object>"
            ],
            "text/html": [
              "<li>[1] the r.31 was hopelessly obsolete.</li>"
            ]
          },
          "metadata": {}
        },
        {
          "output_type": "display_data",
          "data": {
            "text/plain": [
              "<IPython.core.display.HTML object>"
            ],
            "text/html": [
              "<li>[1] following the german design and development operational history renard r.32 occupation of belgium, the luftwaffe had no interest in the machines, and those that had survived the initial onslaught were either unused or destroyed.</li>"
            ]
          },
          "metadata": {}
        },
        {
          "output_type": "display_data",
          "data": {
            "text/plain": [
              "<IPython.core.display.HTML object>"
            ],
            "text/html": [
              "<li>brussels, belgium:fonds national alfred renard www.fnar.be, 2003, pp.</li>"
            ]
          },
          "metadata": {}
        },
        {
          "output_type": "display_data",
          "data": {
            "text/plain": [
              "<IPython.core.display.HTML object>"
            ],
            "text/html": [
              "<li>war planes of the second world war: volume seven, bombers and reconnaissance aircraft.</li>"
            ]
          },
          "metadata": {}
        },
        {
          "output_type": "display_data",
          "data": {
            "text/plain": [
              "<IPython.core.display.HTML object>"
            ],
            "text/html": [
              "<li>[1] it was a parasol monoplane of mixed construction, powered by a rolls-royce kestrel engine, with a welded steel tubing structure with metal sheet covering the forward fuselage and fabric covering of the remainder of the airframe.</li>"
            ]
          },
          "metadata": {}
        },
        {
          "output_type": "display_data",
          "data": {
            "text/plain": [
              "<IPython.core.display.HTML object>"
            ],
            "text/html": [
              "<li>31. cashman, richard (2001).</li>"
            ]
          },
          "metadata": {}
        },
        {
          "output_type": "display_data",
          "data": {
            "text/plain": [
              "<IPython.core.display.HTML object>"
            ],
            "text/html": [
              "<li>a second aircraft was fitted with an enclosed canopy and a gnome-rhône mistral major radial engine, becoming the r-32, with this then being replaced by a hispano-suiza 12y engine, but the r-32 did not show sufficiently improved performance to gain a production order.</li>"
            ]
          },
          "metadata": {}
        },
        {
          "output_type": "display_data",
          "data": {
            "text/plain": [
              "<IPython.core.display.HTML object>"
            ],
            "text/html": [
              "<li>22.</li>"
            ]
          },
          "metadata": {}
        },
        {
          "output_type": "display_data",
          "data": {
            "text/plain": [
              "<IPython.core.display.HTML object>"
            ],
            "text/html": [
              "<li>17. cashman, richard (2001).</li>"
            ]
          },
          "metadata": {}
        },
        {
          "output_type": "display_data",
          "data": {
            "text/plain": [
              "<IPython.core.display.HTML object>"
            ],
            "text/html": [
              "<li>11. cashman, richard (2001).</li>"
            ]
          },
          "metadata": {}
        },
        {
          "output_type": "display_data",
          "data": {
            "text/plain": [
              "<IPython.core.display.HTML object>"
            ],
            "text/html": [
              "<li>\"la saga du r-31\" .</li>"
            ]
          },
          "metadata": {}
        },
        {
          "output_type": "display_data",
          "data": {
            "text/plain": [
              "<IPython.core.display.HTML object>"
            ],
            "text/html": [
              "<li>12. cashman, richard (2001).</li>"
            ]
          },
          "metadata": {}
        },
        {
          "output_type": "display_data",
          "data": {
            "text/plain": [
              "<IPython.core.display.HTML object>"
            ],
            "text/html": [
              "<li>edinburgh: chambers.</li>"
            ]
          },
          "metadata": {}
        },
        {
          "output_type": "display_data",
          "data": {
            "text/plain": [
              "<IPython.core.display.HTML object>"
            ],
            "text/html": [
              "<li>27.</li>"
            ]
          },
          "metadata": {}
        },
        {
          "output_type": "display_data",
          "data": {
            "text/plain": [
              "<IPython.core.display.HTML object>"
            ],
            "text/html": [
              "<li>29.</li>"
            ]
          },
          "metadata": {}
        },
        {
          "output_type": "display_data",
          "data": {
            "text/plain": [
              "<IPython.core.display.HTML object>"
            ],
            "text/html": [
              "<li>34–37.</li>"
            ]
          },
          "metadata": {}
        },
        {
          "output_type": "display_data",
          "data": {
            "text/plain": [
              "<IPython.core.display.HTML object>"
            ],
            "text/html": [
              "<li>north ryde, australia: harpercollins.</li>"
            ]
          },
          "metadata": {}
        },
        {
          "output_type": "display_data",
          "data": {
            "text/plain": [
              "<IPython.core.display.HTML object>"
            ],
            "text/html": [
              "<li>north ryde, australia: harpercollins.</li>"
            ]
          },
          "metadata": {}
        },
        {
          "output_type": "display_data",
          "data": {
            "text/plain": [
              "<IPython.core.display.HTML object>"
            ],
            "text/html": [
              "<li>32. rees, courtney.</li>"
            ]
          },
          "metadata": {}
        },
        {
          "output_type": "display_data",
          "data": {
            "text/plain": [
              "<IPython.core.display.HTML object>"
            ],
            "text/html": [
              "<li>30.</li>"
            ]
          },
          "metadata": {}
        },
        {
          "output_type": "display_data",
          "data": {
            "text/plain": [
              "<IPython.core.display.HTML object>"
            ],
            "text/html": [
              "<li>: angus & robertson.</li>"
            ]
          },
          "metadata": {}
        },
        {
          "output_type": "display_data",
          "data": {
            "text/plain": [
              "<IPython.core.display.HTML object>"
            ],
            "text/html": [
              "<li>herald sun.</li>"
            ]
          },
          "metadata": {}
        },
        {
          "output_type": "display_data",
          "data": {
            "text/plain": [
              "<IPython.core.display.HTML object>"
            ],
            "text/html": [
              "<li>herald sun.</li>"
            ]
          },
          "metadata": {}
        },
        {
          "output_type": "display_data",
          "data": {
            "text/plain": [
              "<IPython.core.display.HTML object>"
            ],
            "text/html": [
              "<li>herald sun.</li>"
            ]
          },
          "metadata": {}
        },
        {
          "output_type": "display_data",
          "data": {
            "text/plain": [
              "<IPython.core.display.HTML object>"
            ],
            "text/html": [
              "<li>ampol book of australian sporting records.</li>"
            ]
          },
          "metadata": {}
        },
        {
          "output_type": "display_data",
          "data": {
            "text/plain": [
              "<IPython.core.display.HTML object>"
            ],
            "text/html": [
              "<li>28.</li>"
            ]
          },
          "metadata": {}
        },
        {
          "output_type": "display_data",
          "data": {
            "text/plain": [
              "<IPython.core.display.HTML object>"
            ],
            "text/html": [
              "<li>the encyclopedia of world aircraft.</li>"
            ]
          },
          "metadata": {}
        },
        {
          "output_type": "display_data",
          "data": {
            "text/plain": [
              "<IPython.core.display.HTML object>"
            ],
            "text/html": [
              "<li>19. hand, guy (24 august 2004).</li>"
            ]
          },
          "metadata": {}
        },
        {
          "output_type": "display_data",
          "data": {
            "text/plain": [
              "<IPython.core.display.HTML object>"
            ],
            "text/html": [
              "<li>30 july 2008. p. 3. bag_t-20080730-1-003- 036677. retrieved 11 march 2012.</li>"
            ]
          },
          "metadata": {}
        },
        {
          "output_type": "display_data",
          "data": {
            "text/plain": [
              "<IPython.core.display.HTML object>"
            ],
            "text/html": [
              "<li>milsons point, n.s.w.</li>"
            ]
          },
          "metadata": {}
        },
        {
          "output_type": "display_data",
          "data": {
            "text/plain": [
              "<IPython.core.display.HTML object>"
            ],
            "text/html": [
              "<li>milsons point, n.s.w.</li>"
            ]
          },
          "metadata": {}
        },
        {
          "output_type": "display_data",
          "data": {
            "text/plain": [
              "<IPython.core.display.HTML object>"
            ],
            "text/html": [
              "<li>milsons point, n.s.w.</li>"
            ]
          },
          "metadata": {}
        },
        {
          "output_type": "display_data",
          "data": {
            "text/plain": [
              "<IPython.core.display.HTML object>"
            ],
            "text/html": [
              "<li>milsons point, n.s.w.</li>"
            ]
          },
          "metadata": {}
        },
        {
          "output_type": "display_data",
          "data": {
            "text/plain": [
              "<IPython.core.display.HTML object>"
            ],
            "text/html": [
              "<li>97–98.</li>"
            ]
          },
          "metadata": {}
        },
        {
          "output_type": "display_data",
          "data": {
            "text/plain": [
              "<IPython.core.display.HTML object>"
            ],
            "text/html": [
              "<li>33. rees, courtney (24 march 2012).</li>"
            ]
          },
          "metadata": {}
        },
        {
          "output_type": "display_data",
          "data": {
            "text/plain": [
              "<IPython.core.display.HTML object>"
            ],
            "text/html": [
              "<li>retrieved 16 april 2019. hauet, andré (october 1972).</li>"
            ]
          },
          "metadata": {}
        },
        {
          "output_type": "display_data",
          "data": {
            "text/plain": [
              "<IPython.core.display.HTML object>"
            ],
            "text/html": [
              "<li>49–51.</li>"
            ]
          },
          "metadata": {}
        },
        {
          "output_type": "display_data",
          "data": {
            "text/plain": [
              "<IPython.core.display.HTML object>"
            ],
            "text/html": [
              "<li>a200408243a-37b6-aiw.</li>"
            ]
          },
          "metadata": {}
        },
        {
          "output_type": "display_data",
          "data": {
            "text/plain": [
              "<IPython.core.display.HTML object>"
            ],
            "text/html": [
              "<li>[2] the last sortie, flown on the afternoon of may 27, 1940, was also the final mission flown by the belgian air force in its attempt to repel the germans.</li>"
            ]
          },
          "metadata": {}
        },
        {
          "output_type": "display_data",
          "data": {
            "text/plain": [
              "<IPython.core.display.HTML object>"
            ],
            "text/html": [
              "<li>one aircraft was fitted with a lorraine petrel engine for evaluation, but this was later replaced by the normal kestrel engine.</li>"
            ]
          },
          "metadata": {}
        },
        {
          "output_type": "display_data",
          "data": {
            "text/plain": [
              "<IPython.core.display.HTML object>"
            ],
            "text/html": [
              "<li>the wing was held in position by a single vee strut on each side, conjoined with its fixed under carriage.</li>"
            ]
          },
          "metadata": {}
        },
        {
          "output_type": "display_data",
          "data": {
            "text/plain": [
              "<IPython.core.display.HTML object>"
            ],
            "text/html": [
              "<li>at them, they won three bronze medals and a silver.</li>"
            ]
          },
          "metadata": {}
        },
        {
          "output_type": "display_data",
          "data": {
            "text/plain": [
              "<IPython.core.display.HTML object>"
            ],
            "text/html": [
              "<li>chambers sports factfinder.</li>"
            ]
          },
          "metadata": {}
        },
        {
          "output_type": "display_data",
          "data": {
            "text/plain": [
              "<IPython.core.display.HTML object>"
            ],
            "text/html": [
              "<li>twenty-first century books.</li>"
            ]
          },
          "metadata": {}
        },
        {
          "output_type": "display_data",
          "data": {
            "text/plain": [
              "<IPython.core.display.HTML object>"
            ],
            "text/html": [
              "<li>21.</li>"
            ]
          },
          "metadata": {}
        },
        {
          "output_type": "display_data",
          "data": {
            "text/plain": [
              "<IPython.core.display.HTML object>"
            ],
            "text/html": [
              "<li>121–125.</li>"
            ]
          },
          "metadata": {}
        },
        {
          "output_type": "display_data",
          "data": {
            "text/plain": [
              "<IPython.core.display.HTML object>"
            ],
            "text/html": [
              "<li>13. ernestine g. miller (29 may 2002).</li>"
            ]
          },
          "metadata": {}
        },
        {
          "output_type": "display_data",
          "data": {
            "text/plain": [
              "<IPython.core.display.HTML object>"
            ],
            "text/html": [
              "<li>agence france- presse.</li>"
            ]
          },
          "metadata": {}
        },
        {
          "output_type": "display_data",
          "data": {
            "text/plain": [
              "<IPython.core.display.HTML object>"
            ],
            "text/html": [
              "<li>79–80.</li>"
            ]
          },
          "metadata": {}
        },
        {
          "output_type": "display_data",
          "data": {
            "text/plain": [
              "<IPython.core.display.HTML object>"
            ],
            "text/html": [
              "<li>none of the planes apparently functioned as ground support aircraft during the brief belgian army resistance, instead flying fifty-four reconnaissance sorties in support of the allied forces defending belgium.</li>"
            ]
          },
          "metadata": {}
        },
        {
          "output_type": "display_data",
          "data": {
            "text/plain": [
              "<IPython.core.display.HTML object>"
            ],
            "text/html": [
              "<li>p. 20.</li>"
            ]
          },
          "metadata": {}
        },
        {
          "output_type": "display_data",
          "data": {
            "text/plain": [
              "<IPython.core.display.HTML object>"
            ],
            "text/html": [
              "<li>p. 12. retrieved 12 march 2012.</li>"
            ]
          },
          "metadata": {}
        },
        {
          "output_type": "display_data",
          "data": {
            "text/plain": [
              "<IPython.core.display.HTML object>"
            ],
            "text/html": [
              "<li>le album de fanatique de l'aviation (in french) (37): 22–26.</li>"
            ]
          },
          "metadata": {}
        },
        {
          "output_type": "display_data",
          "data": {
            "text/plain": [
              "<IPython.core.display.HTML object>"
            ],
            "text/html": [
              "<li>3. lednicer, david.</li>"
            ]
          },
          "metadata": {}
        },
        {
          "output_type": "display_data",
          "data": {
            "text/plain": [
              "<IPython.core.display.HTML object>"
            ],
            "text/html": [
              "<li>2.</li>"
            ]
          },
          "metadata": {}
        },
        {
          "output_type": "display_data",
          "data": {
            "text/plain": [
              "<IPython.core.display.HTML object>"
            ],
            "text/html": [
              "<li>20.</li>"
            ]
          },
          "metadata": {}
        },
        {
          "output_type": "display_data",
          "data": {
            "text/plain": [
              "<IPython.core.display.HTML object>"
            ],
            "text/html": [
              "<li>the sunday age.</li>"
            ]
          },
          "metadata": {}
        },
        {
          "output_type": "display_data",
          "data": {
            "text/plain": [
              "<IPython.core.display.HTML object>"
            ],
            "text/html": [
              "<li>24 july 2011. p. 18. retrieved 12 march 2012.</li>"
            ]
          },
          "metadata": {}
        },
        {
          "output_type": "display_data",
          "data": {
            "text/plain": [
              "<IPython.core.display.HTML object>"
            ],
            "text/html": [
              "<li>archived from the original (http://www.ausport.gov.au/ais/sports/s oftball/athletes?sq_content_src=%2bdxjspwh0dhalm0elmkylmkztyxryaxh0dw5uzwwl mkztcg9ydcuyrjiyjtjgu3f1ywqlmkzqcm9mawxljtjgqxrobgv0zsuyrkrldgfpbc uyrji3nta1ntumywxspte%3d) on 25 march 2012. retrieved 8 march 2012.</li>"
            ]
          },
          "metadata": {}
        },
        {
          "output_type": "display_data",
          "data": {
            "text/plain": [
              "<IPython.core.display.HTML object>"
            ],
            "text/html": [
              "<li>1.</li>"
            ]
          },
          "metadata": {}
        },
        {
          "output_type": "display_data",
          "data": {
            "text/plain": [
              "<IPython.core.display.HTML object>"
            ],
            "text/html": [
              "<li>9. kelly boyer sagert; steven j. overman (28 february 2012).</li>"
            ]
          },
          "metadata": {}
        },
        {
          "output_type": "display_data",
          "data": {
            "text/plain": [
              "<IPython.core.display.HTML object>"
            ],
            "text/html": [
              "<li>2. donald, david, ed.</li>"
            ]
          },
          "metadata": {}
        },
        {
          "output_type": "display_data",
          "data": {
            "text/plain": [
              "<IPython.core.display.HTML object>"
            ],
            "text/html": [
              "<li>23.</li>"
            ]
          },
          "metadata": {}
        },
        {
          "output_type": "display_data",
          "data": {
            "text/plain": [
              "<IPython.core.display.HTML object>"
            ],
            "text/html": [
              "<li>21 august 2008. retrieved 11 march 2012.</li>"
            ]
          },
          "metadata": {}
        },
        {
          "output_type": "display_data",
          "data": {
            "text/plain": [
              "<IPython.core.display.HTML object>"
            ],
            "text/html": [
              "<li>p. 273. isbn 978-0-07-139053-8. retrieved 10 march 2012. indigenous representation references 14.</li>"
            ]
          },
          "metadata": {}
        },
        {
          "output_type": "display_data",
          "data": {
            "text/plain": [
              "<IPython.core.display.HTML object>"
            ],
            "text/html": [
              "<li>5. stell, marion k. (1991).</li>"
            ]
          },
          "metadata": {}
        },
        {
          "output_type": "display_data",
          "data": {
            "text/plain": [
              "<IPython.core.display.HTML object>"
            ],
            "text/html": [
              "<li>25. purdon, fiona (2 december 2005).</li>"
            ]
          },
          "metadata": {}
        },
        {
          "output_type": "display_data",
          "data": {
            "text/plain": [
              "<IPython.core.display.HTML object>"
            ],
            "text/html": [
              "<li>(1997).</li>"
            ]
          },
          "metadata": {}
        },
        {
          "output_type": "display_data",
          "data": {
            "text/plain": [
              "<IPython.core.display.HTML object>"
            ],
            "text/html": [
              "<li>4.</li>"
            ]
          },
          "metadata": {}
        },
        {
          "output_type": "display_data",
          "data": {
            "text/plain": [
              "<IPython.core.display.HTML object>"
            ],
            "text/html": [
              "<li>the courier mail.</li>"
            ]
          },
          "metadata": {}
        },
        {
          "output_type": "display_data",
          "data": {
            "text/plain": [
              "<IPython.core.display.HTML object>"
            ],
            "text/html": [
              "<li>[25] they earned a silver in 2008.</li>"
            ]
          },
          "metadata": {}
        },
        {
          "output_type": "display_data",
          "data": {
            "text/plain": [
              "<IPython.core.display.HTML object>"
            ],
            "text/html": [
              "<li>[15] australia finished with a bronze medal.</li>"
            ]
          },
          "metadata": {}
        },
        {
          "output_type": "display_data",
          "data": {
            "text/plain": [
              "<IPython.core.display.HTML object>"
            ],
            "text/html": [
              "<li>america in the 1990s (https://books.google.com/book s?id=bnxeifqscocc&pg=pt121).</li>"
            ]
          },
          "metadata": {}
        },
        {
          "output_type": "display_data",
          "data": {
            "text/plain": [
              "<IPython.core.display.HTML object>"
            ],
            "text/html": [
              "<li>{{cite web}}: cite uses generic title (help) 3. stell, marion k. (1991).</li>"
            ]
          },
          "metadata": {}
        },
        {
          "output_type": "display_data",
          "data": {
            "text/plain": [
              "<IPython.core.display.HTML object>"
            ],
            "text/html": [
              "<li>the canberra times.</li>"
            ]
          },
          "metadata": {}
        },
        {
          "output_type": "display_data",
          "data": {
            "text/plain": [
              "<IPython.core.display.HTML object>"
            ],
            "text/html": [
              "<li>the canberra times.</li>"
            ]
          },
          "metadata": {}
        },
        {
          "output_type": "display_data",
          "data": {
            "text/plain": [
              "<IPython.core.display.HTML object>"
            ],
            "text/html": [
              "<li>the canberra times.</li>"
            ]
          },
          "metadata": {}
        },
        {
          "output_type": "display_data",
          "data": {
            "text/plain": [
              "<IPython.core.display.HTML object>"
            ],
            "text/html": [
              "<li>retrieved 1 july 2021.</li>"
            ]
          },
          "metadata": {}
        },
        {
          "output_type": "display_data",
          "data": {
            "text/plain": [
              "<IPython.core.display.HTML object>"
            ],
            "text/html": [
              "<li>belgium belgian air force data from war planes of the second world war , volume seven, bombers and reconnaissance aircraft [1] general characteristics crew: 2 length: 9.2 m (30 ft 2 in) wingspan: 14.4 m (47 ft 3 in) height: 2.92 m (9 ft 7 in) [2] wing area: 32 m2 (340 sq ft) airfoil: biconvex[3] empty weight: 1,330 kg (2,932 lb) gross weight: 2,130 kg (4,696 lb) powerplant: 1 × rolls-royce kestrel iis v-12 liquid-cooled piston engine, 358 kw (480 hp) propellers: 2-bladed wooden fixed-pitch propeller performance maximum speed: 294 km/h (183 mph, 159 kn) at 4,000 m (13,000 ft) cruise speed: 238 km/h (148 mph, 129 kn) range: 650 km (400 mi, 350 nmi) [2] service ceiling: 8,750 m (28,710 ft) time to altitude: 2,000 m (6,600 ft) in 5 minutes 30 seconds 5,000 m (16,000 ft) in 11 minutes 42 seconds power/mass: 0.17 kw/kg (0.10 hp/lb) armament guns: one or two forward-firing 7.62 mm vickers machine guns and one 7.62 mm lewis machine gun in flexible mount in rear cockpit aircraft of comparable role, configuration, and era henschel hs 126 operators specifications (renard r.31) see also westland lysander related lists list of interwar military aircraft 1. green, william (1967).</li>"
            ]
          },
          "metadata": {}
        },
        {
          "output_type": "display_data",
          "data": {
            "text/plain": [
              "<IPython.core.display.HTML object>"
            ],
            "text/html": [
              "<li>sydney: the pollard publishing co. pp.</li>"
            ]
          },
          "metadata": {}
        },
        {
          "output_type": "display_data",
          "data": {
            "text/plain": [
              "<IPython.core.display.HTML object>"
            ],
            "text/html": [
              "<li>8. viney, nigel; grant, neil (1978).</li>"
            ]
          },
          "metadata": {}
        },
        {
          "output_type": "display_data",
          "data": {
            "text/plain": [
              "<IPython.core.display.HTML object>"
            ],
            "text/html": [
              "<li>15. brigid o'connell and rosie squires (23 august 2009).</li>"
            ]
          },
          "metadata": {}
        },
        {
          "output_type": "display_data",
          "data": {
            "text/plain": [
              "<IPython.core.display.HTML object>"
            ],
            "text/html": [
              "<li>archived from the original (https://olympics.com/tokyo-2020/olympic-games/resog2020-/pdf/og2020-/bsb/ og2020-_bsb_c33_bsbwsblteam9----------------------bsbwsblteam9aus01.pdf) (pdf) on 20 july 2021. retrieved 20 july 2021.</li>"
            ]
          },
          "metadata": {}
        },
        {
          "output_type": "display_data",
          "data": {
            "text/plain": [
              "<IPython.core.display.HTML object>"
            ],
            "text/html": [
              "<li>oclc 71140 (https://www.worldcat.org/oclc/71140).</li>"
            ]
          },
          "metadata": {}
        },
        {
          "output_type": "display_data",
          "data": {
            "text/plain": [
              "<IPython.core.display.HTML object>"
            ],
            "text/html": [
              "<li>retrieved 11 march 2012.</li>"
            ]
          },
          "metadata": {}
        },
        {
          "output_type": "display_data",
          "data": {
            "text/plain": [
              "<IPython.core.display.HTML object>"
            ],
            "text/html": [
              "<li>retrieved 11 march 2012.</li>"
            ]
          },
          "metadata": {}
        },
        {
          "output_type": "display_data",
          "data": {
            "text/plain": [
              "<IPython.core.display.HTML object>"
            ],
            "text/html": [
              "<li>retrieved 11 march 2012.</li>"
            ]
          },
          "metadata": {}
        },
        {
          "output_type": "display_data",
          "data": {
            "text/plain": [
              "<IPython.core.display.HTML object>"
            ],
            "text/html": [
              "<li>6. pollard, jack (1968).</li>"
            ]
          },
          "metadata": {}
        },
        {
          "output_type": "display_data",
          "data": {
            "text/plain": [
              "<IPython.core.display.HTML object>"
            ],
            "text/html": [
              "<li>p. 323. isbn 1740514459. oclc 223005022 (https://www.worldcat.org/ocl c/223005022).</li>"
            ]
          },
          "metadata": {}
        },
        {
          "output_type": "display_data",
          "data": {
            "text/plain": [
              "<IPython.core.display.HTML object>"
            ],
            "text/html": [
              "<li>[20] they earned a bronze in 2011.</li>"
            ]
          },
          "metadata": {}
        },
        {
          "output_type": "display_data",
          "data": {
            "text/plain": [
              "<IPython.core.display.HTML object>"
            ],
            "text/html": [
              "<li>an illustrated history of ball games.</li>"
            ]
          },
          "metadata": {}
        },
        {
          "output_type": "display_data",
          "data": {
            "text/plain": [
              "<IPython.core.display.HTML object>"
            ],
            "text/html": [
              "</ol>"
            ]
          },
          "metadata": {}
        },
        {
          "output_type": "display_data",
          "data": {
            "text/plain": [
              "<IPython.core.display.HTML object>"
            ],
            "text/html": [
              "<h3>Final Answer (From Gemini)<h3>"
            ]
          },
          "metadata": {}
        },
        {
          "output_type": "display_data",
          "data": {
            "text/plain": [
              "<IPython.core.display.HTML object>"
            ],
            "text/html": [
              "<p>The Renard R.31 was armed with:</p>\n",
              "<ul>\n",
              "<li><strong>One or two forward-firing 7.62 mm Vickers machine guns</strong></li>\n",
              "<li><strong>One 7.62 mm Lewis machine gun in a flexible mount in the rear cockpit</strong> </li>\n",
              "</ul>"
            ]
          },
          "metadata": {}
        },
        {
          "output_type": "stream",
          "name": "stdout",
          "text": [
            "\n",
            "\n"
          ]
        }
      ]
    },
    {
      "cell_type": "code",
      "source": [
        "answer_question(\"Who was the first softball player to represent any country at four World Series of Softball?\")"
      ],
      "metadata": {
        "colab": {
          "base_uri": "https://localhost:8080/",
          "height": 313
        },
        "id": "B99Wi6sc7G9z",
        "outputId": "a844a052-3afc-45f8-e4f7-7ba705a9fca3"
      },
      "execution_count": 19,
      "outputs": [
        {
          "output_type": "display_data",
          "data": {
            "text/plain": [
              "<IPython.core.display.HTML object>"
            ],
            "text/html": [
              "<h2>Question: Who was the first softball player to represent any country at four World Series of Softball?</h2>"
            ]
          },
          "metadata": {}
        },
        {
          "output_type": "display_data",
          "data": {
            "text/plain": [
              "<IPython.core.display.HTML object>"
            ],
            "text/html": [
              "<h3>Relevant Sentences<h3>"
            ]
          },
          "metadata": {}
        },
        {
          "output_type": "display_data",
          "data": {
            "text/plain": [
              "<IPython.core.display.HTML object>"
            ],
            "text/html": [
              "<ol>"
            ]
          },
          "metadata": {}
        },
        {
          "output_type": "display_data",
          "data": {
            "text/plain": [
              "<IPython.core.display.HTML object>"
            ],
            "text/html": [
              "<li>she was the first softball player to represent any country at four world series of softball.</li>"
            ]
          },
          "metadata": {}
        },
        {
          "output_type": "display_data",
          "data": {
            "text/plain": [
              "<IPython.core.display.HTML object>"
            ],
            "text/html": [
              "<li>melanie roche, four time olympic medalist in softball[15] parade of olympians – sydney 2008 – women's softball team beat the americans, who invented the game in 1887, to win the championship.</li>"
            ]
          },
          "metadata": {}
        },
        {
          "output_type": "display_data",
          "data": {
            "text/plain": [
              "<IPython.core.display.HTML object>"
            ],
            "text/html": [
              "<li>[2] at the inaugural women's softball world championship held in melbourne, 1965. australia claimed the first ever title, winning gold and stamped themselves as a pioneer in the sport.</li>"
            ]
          },
          "metadata": {}
        },
        {
          "output_type": "display_data",
          "data": {
            "text/plain": [
              "<IPython.core.display.HTML object>"
            ],
            "text/html": [
              "<li>[31] in march 2012, the team played a test series against the japan women's national softball team in canberra.</li>"
            ]
          },
          "metadata": {}
        },
        {
          "output_type": "display_data",
          "data": {
            "text/plain": [
              "<IPython.core.display.HTML object>"
            ],
            "text/html": [
              "<li>[32] stacey porter was the team's first aboriginal teammate to represent australia in softball the olympics.</li>"
            ]
          },
          "metadata": {}
        },
        {
          "output_type": "display_data",
          "data": {
            "text/plain": [
              "<IPython.core.display.HTML object>"
            ],
            "text/html": [
              "</ol>"
            ]
          },
          "metadata": {}
        },
        {
          "output_type": "display_data",
          "data": {
            "text/plain": [
              "<IPython.core.display.HTML object>"
            ],
            "text/html": [
              "<h3>Final Answer (From Gemini)<h3>"
            ]
          },
          "metadata": {}
        },
        {
          "output_type": "display_data",
          "data": {
            "text/plain": [
              "<IPython.core.display.HTML object>"
            ],
            "text/html": [
              "<p>The text states that <strong>Melanie Roche</strong> was the first softball player to represent any country at four World Series of Softball. </p>"
            ]
          },
          "metadata": {}
        },
        {
          "output_type": "stream",
          "name": "stdout",
          "text": [
            "\n",
            "\n"
          ]
        }
      ]
    },
    {
      "cell_type": "code",
      "source": [
        "# Note that Gemini does not always find the correct answer, however the sources include the correct answer\n",
        "answer_question(\"Who were the pitchers on the Australian softball team's roster at the 2020 Summer Olympics?\", 5)"
      ],
      "metadata": {
        "colab": {
          "base_uri": "https://localhost:8080/",
          "height": 452
        },
        "id": "PHEilyFa7LGG",
        "outputId": "291dc0c2-460a-4fbf-b256-60a239dd9e62"
      },
      "execution_count": 22,
      "outputs": [
        {
          "output_type": "display_data",
          "data": {
            "text/plain": [
              "<IPython.core.display.HTML object>"
            ],
            "text/html": [
              "<h2>Question: Who were the pitchers on the Australian softball team's roster at the 2020 Summer Olympics?</h2>"
            ]
          },
          "metadata": {}
        },
        {
          "output_type": "display_data",
          "data": {
            "text/plain": [
              "<IPython.core.display.HTML object>"
            ],
            "text/html": [
              "<h3>Relevant Sentences<h3>"
            ]
          },
          "metadata": {}
        },
        {
          "output_type": "display_data",
          "data": {
            "text/plain": [
              "<IPython.core.display.HTML object>"
            ],
            "text/html": [
              "<ol>"
            ]
          },
          "metadata": {}
        },
        {
          "output_type": "display_data",
          "data": {
            "text/plain": [
              "<IPython.core.display.HTML object>"
            ],
            "text/html": [
              "<li>[29] softball at the 2020 summer olympics – australia roster players coaches pitchers 6 ellen roberts 14 t arni stepto 32 kaia parnaby 54 gabbie plain catchers 22 belinda white 25 chelsea forkin 65 t aylah t sitsikronis infielders 2 clare warwick 4 stacey mcmanus 16 stacey porter 31 rachel lack 44 leah parry outfielders 1 jade wall 17 leigh godfrey 47 michelle cox manager laing harrow [30] coaches nathan jones andrew kirkpatrick 2008 olympic team 2020 olympic team other competitions 2020 olympic roster test series in 1962, australia played a test series against new zealand in new zealand.</li>"
            ]
          },
          "metadata": {}
        },
        {
          "output_type": "display_data",
          "data": {
            "text/plain": [
              "<IPython.core.display.HTML object>"
            ],
            "text/html": [
              "<li>[32] stacey porter was the team's first aboriginal teammate to represent australia in softball the olympics.</li>"
            ]
          },
          "metadata": {}
        },
        {
          "output_type": "display_data",
          "data": {
            "text/plain": [
              "<IPython.core.display.HTML object>"
            ],
            "text/html": [
              "<li>\"ais softball – stacey porter\" (https://web.archive.org/web/20120325184023/http://www.aus port.gov.au/ais/sports/softball/athletes?sq_content_src=+dxjspwh0dhalm0elmkylmkztyx ryaxh0dw5uzwwlmkztcg9ydcuyrjiyjtjgu3f1ywqlmkzqcm9mawxljtjgqxrobgv0 zsuyrkrldgfpbcuyrji3nta1ntumywxspte%3d).</li>"
            ]
          },
          "metadata": {}
        },
        {
          "output_type": "display_data",
          "data": {
            "text/plain": [
              "<IPython.core.display.HTML object>"
            ],
            "text/html": [
              "<li>\"team roster australia\" (https://web.archive.org/web/20210720203707/https://olympics.com/ tokyo-2020/olympic-games/resog2020-/pdf/og2020-/bsb/og2020-_bsb_c33_bsbwsbl team9----------------------bsbwsblteam9aus01.pdf) (pdf).</li>"
            ]
          },
          "metadata": {}
        },
        {
          "output_type": "display_data",
          "data": {
            "text/plain": [
              "<IPython.core.display.HTML object>"
            ],
            "text/html": [
              "<li>australia: softball australia.</li>"
            ]
          },
          "metadata": {}
        },
        {
          "output_type": "display_data",
          "data": {
            "text/plain": [
              "<IPython.core.display.HTML object>"
            ],
            "text/html": [
              "</ol>"
            ]
          },
          "metadata": {}
        },
        {
          "output_type": "display_data",
          "data": {
            "text/plain": [
              "<IPython.core.display.HTML object>"
            ],
            "text/html": [
              "<h3>Final Answer (From Gemini)<h3>"
            ]
          },
          "metadata": {}
        },
        {
          "output_type": "display_data",
          "data": {
            "text/plain": [
              "<IPython.core.display.HTML object>"
            ],
            "text/html": [
              "<p>The provided text doesn't explicitly list the pitchers on the Australian softball team's roster at the 2020 Summer Olympics. </p>\n",
              "<p>However, it does mention the following players:</p>\n",
              "<ul>\n",
              "<li><strong>Ellen Roberts (6)</strong></li>\n",
              "<li><strong>Tarni Stepto (14)</strong></li>\n",
              "<li><strong>Kaia Parnaby (32)</strong></li>\n",
              "<li><strong>Gabbie Plain (54)</strong></li>\n",
              "</ul>\n",
              "<p>These players are listed under the \"pitchers\" category, so it's safe to assume they were the pitchers on the team. </p>"
            ]
          },
          "metadata": {}
        },
        {
          "output_type": "stream",
          "name": "stdout",
          "text": [
            "\n",
            "\n"
          ]
        }
      ]
    }
  ]
}